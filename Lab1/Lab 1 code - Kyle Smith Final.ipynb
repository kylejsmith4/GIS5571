{
 "cells": [
  {
   "cell_type": "markdown",
   "id": "a42591f7-7b6b-42b6-99f1-51cc72c9941e",
   "metadata": {
    "tags": []
   },
   "source": [
    "# GIS 5571 Lab 1\n",
    "\n",
    "## Kyle Smith, smi02542@umn.edu\n",
    "\n",
    "----"
   ]
  },
  {
   "cell_type": "markdown",
   "id": "a73bf4a2-ee48-4f10-99d1-290e03eabc24",
   "metadata": {
    "heading_collapsed": true,
    "jp-MarkdownHeadingCollapsed": true,
    "tags": []
   },
   "source": [
    "#### Python packages"
   ]
  },
  {
   "cell_type": "code",
   "execution_count": 1,
   "id": "322ca94c-6526-486f-ba65-32500d7b6a00",
   "metadata": {
    "hidden": true
   },
   "outputs": [],
   "source": [
    "# !pip install arcgis\n",
    "# !pip install shapely\n",
    "# !pip install ipywidgets "
   ]
  },
  {
   "cell_type": "code",
   "execution_count": 2,
   "id": "814f0c56-c20c-45ea-b057-91be678246fa",
   "metadata": {
    "hidden": true
   },
   "outputs": [],
   "source": [
    "import os\n",
    "import json\n",
    "import requests\n",
    "import zipfile\n",
    "import pandas as pd\n",
    "import matplotlib.pyplot as plt\n",
    "from io import BytesIO\n",
    "from osgeo import ogr\n",
    "from pyproj import Transformer\n",
    "from shapely import wkt\n",
    "from arcgis.gis import GIS\n",
    "from arcgis.features import GeoAccessor, GeoSeriesAccessor\n",
    "from arcgis.features import FeatureSet\n",
    "from arcgis.geometry import Geometry, Polyline, SpatialReference\n",
    "from arcgis.mapping import WebMap\n",
    "from arcgis.widgets import MapView\n",
    "from arcgis.geometry import Point\n",
    "import shapefile\n",
    "import ipywidgets  as widgets\n",
    "import warnings\n",
    "\n",
    "gis = GIS()\n",
    "\n",
    "warnings.simplefilter(action='ignore', category=FutureWarning)"
   ]
  },
  {
   "cell_type": "markdown",
   "id": "370e20f9-ccc1-40fb-8989-6515a3f080f6",
   "metadata": {},
   "source": [
    "# * Download three datasets (one from each API), convert to spatially enabled databases & same coordinate reference system"
   ]
  },
  {
   "cell_type": "markdown",
   "id": "54347c39-cb6a-40bb-83c6-4111ffefbc10",
   "metadata": {
    "heading_collapsed": true,
    "jp-MarkdownHeadingCollapsed": true,
    "tags": []
   },
   "source": [
    "#### 1. Minnesota Geospatial Commons API (Strategic_Highways)"
   ]
  },
  {
   "cell_type": "markdown",
   "id": "0ba27b0a-3b96-4cce-9a90-bbb775f10c7f",
   "metadata": {
    "hidden": true
   },
   "source": [
    "Dataset: National Highway System, Truck Network, and Strategic Highway Network - https://gisdata.mn.gov/dataset/trans-federal-routes\n",
    "Specifically, I will use the \"Strategic_Highway_Network_in_Minnesota\" feature service, which only includes roads identified as priority routes for national defense purposes. "
   ]
  },
  {
   "cell_type": "code",
   "execution_count": 25,
   "id": "7d45ec80-56da-4f58-bc61-d8d0cb645189",
   "metadata": {
    "hidden": true
   },
   "outputs": [
    {
     "name": "stdout",
     "output_type": "stream",
     "text": [
      "{'wkid': 26915}\n",
      "['polyline']\n",
      "True\n"
     ]
    }
   ],
   "source": [
    "# Use CKAN to search MN Geospatial Commons for \"trans-federal-routes\" \n",
    "api = \"https://gisdata.mn.gov/api/3/action/package_search?q=trans-federal-routes\"\n",
    "\n",
    "# Request to GET from the API\n",
    "response = requests.get(api)\n",
    "\n",
    "# Load the JSON extracted from API search results \n",
    "json_data = response.json()\n",
    "\n",
    "# Find the path in JSON for 'trans-federal-routes'\n",
    "zip_url = json_data['result']['results'][0]['resources'][0]['url']\n",
    "zip_url\n",
    "\n",
    "# Download the zip file\n",
    "zip_file_path = 'trans_federal_routes.zip'\n",
    "with requests.get(zip_url, stream=True) as r:\n",
    "    with open(zip_file_path, 'wb') as f:\n",
    "        for chunk in r.iter_content(chunk_size=8192):\n",
    "            f.write(chunk)\n",
    "            \n",
    "# Extract the ZIP file\n",
    "extraction_path = \"trans_federal_routes_data\"\n",
    "with zipfile.ZipFile(zip_file_path, 'r') as zip_ref:\n",
    "    zip_ref.extractall(extraction_path)\n",
    "\n",
    "# List the extracted files\n",
    "extracted_files = os.listdir(extraction_path)\n",
    "#extracted_files\n",
    "\n",
    "# looking for .... trans_federal_routes_data/Strategic_Highway_Network_in_Minnesota.shp\n",
    "file_path = 'trans_federal_routes_data/Strategic_Highway_Network_in_Minnesota.shp'\n",
    "\n",
    "# Make a Spatially Enabled DataFrame\n",
    "sdf_Strategic_Highways = pd.DataFrame.spatial.from_featureclass(file_path)\n",
    "#sdf_Strategic_Highways.head()\n",
    "\n",
    "#check geometry and sr\n",
    "sdf_Strategic_Highways.spatial.sr = {'wkid': 26915}\n",
    "sdf_Strategic_Highways.spatial.set_geometry('SHAPE')\n",
    "print(sdf_Strategic_Highways.spatial.sr)  \n",
    "print(sdf_Strategic_Highways.spatial.geometry_type)  \n",
    "print(sdf_Strategic_Highways.spatial.validate())\n",
    "#sdf_Strategic_Highways.head()"
   ]
  },
  {
   "cell_type": "code",
   "execution_count": 4,
   "id": "15c64fc7",
   "metadata": {
    "hidden": true,
    "scrolled": true
   },
   "outputs": [],
   "source": [
    "map1 = gis.map(\"Minnesota\")\n",
    "\n",
    "# Convert to FeatureCollection\n",
    "feature_highways = sdf_Strategic_Highways.spatial.to_feature_collection()\n",
    "\n",
    "# Add the Hhighways Feature to the map\n",
    "map1.add_layer(feature_highways)\n",
    "\n",
    "#map1"
   ]
  },
  {
   "cell_type": "code",
   "execution_count": 5,
   "id": "04d6d7df",
   "metadata": {
    "hidden": true
   },
   "outputs": [],
   "source": [
    "#make a csv\n",
    "sdf_Strategic_Highways.to_csv('Lab_1__MNGeo_Strategic_Highways.csv', index=False)"
   ]
  },
  {
   "cell_type": "code",
   "execution_count": null,
   "id": "ab8b590f",
   "metadata": {
    "hidden": true
   },
   "outputs": [],
   "source": []
  },
  {
   "cell_type": "markdown",
   "id": "5759e719-b104-495f-aac6-8ab1fb9718a6",
   "metadata": {
    "jp-MarkdownHeadingCollapsed": true,
    "tags": []
   },
   "source": [
    "#### 2. REST API (mn_counties)"
   ]
  },
  {
   "cell_type": "markdown",
   "id": "9a2d6b20-7eed-4e38-8c7e-e35ab2b3490a",
   "metadata": {},
   "source": [
    "Dataset: County boundaries in Minnesota (polygons) - https://webgis.dot.state.mn.us/65agsf1/rest/services/sdw_govnt/COUNTY/FeatureServer/0"
   ]
  },
  {
   "cell_type": "code",
   "execution_count": 26,
   "id": "d21a8a41-7c75-4b0c-9c31-f1aad8d793e9",
   "metadata": {},
   "outputs": [
    {
     "name": "stdout",
     "output_type": "stream",
     "text": [
      "{'wkid': 4326, 'latestWkid': 4326}\n",
      "['polygon']\n",
      "True\n"
     ]
    }
   ],
   "source": [
    "# REST API URL\n",
    "api = 'https://webgis.dot.state.mn.us/65agsf1/rest/services/sdw_govnt/COUNTY/FeatureServer/0/query?where=1%3D1&objectIds=&time=&geometry=&geometryType=esriGeometryEnvelope&inSR=&spatialRel=esriSpatialRelIntersects&distance=&units=esriSRUnit_Foot&relationParam=&outFields=*&returnGeometry=true&maxAllowableOffset=&geometryPrecision=&outSR=4326&havingClause=&gdbVersion=&historicMoment=&returnDistinctValues=false&returnIdsOnly=false&returnCountOnly=false&returnExtentOnly=false&orderByFields=&groupByFieldsForStatistics=&outStatistics=&returnZ=false&returnM=false&multipatchOption=xyFootprint&resultOffset=&resultRecordCount=&returnTrueCurves=false&returnExceededLimitFeatures=false&quantizationParameters=&returnCentroid=false&timeReferenceUnknownClient=false&sqlFormat=none&resultType=&featureEncoding=esriDefault&datumTransformation=&f=pjson'\n",
    "\n",
    "# Request data from the API\n",
    "r = requests.get(api)\n",
    "data = r.json()\n",
    "\n",
    "# Create a FeatureSet from the JSON data\n",
    "fs = FeatureSet.from_dict(data)\n",
    "#data\n",
    "\n",
    "# Create a Spatially Enabled DataFrame from the FeatureSet\n",
    "sdf_mn_counties = fs.sdf\n",
    "\n",
    "\n",
    "#check geometry and sr\n",
    "sdf_mn_counties.spatial.set_geometry('SHAPE')\n",
    "print(sdf_mn_counties.spatial.sr)  \n",
    "print(sdf_mn_counties.spatial.geometry_type)  \n",
    "print(sdf_mn_counties.spatial.validate())\n",
    "#sdf_mn_counties.head()\n"
   ]
  },
  {
   "cell_type": "code",
   "execution_count": 7,
   "id": "0f324ca6-c328-4801-b8b2-9103d810b3f3",
   "metadata": {},
   "outputs": [],
   "source": [
    "#make a csv\n",
    "sdf_mn_counties.to_csv('Lab_1__REST_MN_counties.csv', index=False)"
   ]
  },
  {
   "cell_type": "markdown",
   "id": "70f32382-4f4d-4157-9c27-a8e91515f2c0",
   "metadata": {
    "jp-MarkdownHeadingCollapsed": true,
    "tags": []
   },
   "source": [
    "#### 3. NDAWN"
   ]
  },
  {
   "cell_type": "markdown",
   "id": "d78190bb-9e1b-4704-a53a-8f4697fe0a17",
   "metadata": {},
   "source": [
    "Using available data from NDAWN, find the monthly average max temp and annual monthly min temp for a 48 month period at a NDAWN site in north Minnesota and south Minnesota\n",
    "\n",
    "    -- NDAWN Station: Humboldt, MN (Station ID 4) - site in north Minnesota \n",
    "    -- NDAWN Station: Becker, MN (Station ID 118) - site in south Minnesota "
   ]
  },
  {
   "cell_type": "code",
   "execution_count": 27,
   "id": "8bb5ae95",
   "metadata": {},
   "outputs": [
    {
     "name": "stdout",
     "output_type": "stream",
     "text": [
      "{'wkid': 4326}\n",
      "['point']\n",
      "True\n"
     ]
    }
   ],
   "source": [
    "#Call api from NDAWN\n",
    "api = 'https://ndawn.ndsu.nodak.edu/table.csv?station=118&station=4&variable=mdmxt&variable=mdmnt&year=2024&ttype=monthly&quick_pick=4_y&begin_date=2019-01&count=12'\n",
    "#api is comma delimited csv file\n",
    "\n",
    "#view api path on web (JSON) as it does not open as a data frame in current form\n",
    "\n",
    "\n",
    "#columns / rows appear to be missalligned because raw NDAWNS csv header rows are merged\n",
    "#To fix, skip rows 0, 1, 2, 4\n",
    "#Column headers are row 3\n",
    "\n",
    "#Pandas create a data frame and skip rows  0, 1, 2, 4\n",
    "df = pd.read_csv(api, skiprows=[0, 1, 2, 4])\n",
    "\n",
    "#For simplicity, Can also skip/drop columns 3,7,8,10,11 \n",
    "df = df.drop(df.columns[[3,7,8,10,11]], axis=1)\n",
    "\n",
    "NDAWN_station_data = pd.DataFrame(df)\n",
    "#NDAWN_station_data\n",
    "\n",
    "#convert latitude and longitude to point geometry\n",
    "NDAWN_station_data = GeoAccessor.from_xy(NDAWN_station_data, x_column='Longitude', y_column='Latitude', sr=4326)\n",
    "\n",
    "NDAWN_station_data.spatial.set_geometry('SHAPE')\n",
    "print(NDAWN_station_data.spatial.sr)  \n",
    "print(NDAWN_station_data.spatial.geometry_type)  \n",
    "print(NDAWN_station_data.spatial.validate())\n",
    "\n",
    "\n",
    "#View NDAWN_station_data\n",
    "#Should be 96 rows and columns: Name / Latitude / Longitude / year / Month / Max / Min \n",
    "#NDAWN_station_data.head()"
   ]
  },
  {
   "cell_type": "code",
   "execution_count": 9,
   "id": "408db75a-8930-4ea8-b096-d75c05cf1e76",
   "metadata": {},
   "outputs": [
    {
     "name": "stdout",
     "output_type": "stream",
     "text": [
      "{'wkid': 4326}\n",
      "['point']\n",
      "True\n"
     ]
    },
    {
     "data": {
      "text/html": [
       "<div>\n",
       "<style scoped>\n",
       "    .dataframe tbody tr th:only-of-type {\n",
       "        vertical-align: middle;\n",
       "    }\n",
       "\n",
       "    .dataframe tbody tr th {\n",
       "        vertical-align: top;\n",
       "    }\n",
       "\n",
       "    .dataframe thead th {\n",
       "        text-align: right;\n",
       "    }\n",
       "</style>\n",
       "<table border=\"1\" class=\"dataframe\">\n",
       "  <thead>\n",
       "    <tr style=\"text-align: right;\">\n",
       "      <th></th>\n",
       "      <th>Avg Max Temp</th>\n",
       "      <th>Avg Min Temp</th>\n",
       "      <th>Latitude</th>\n",
       "      <th>Longitude</th>\n",
       "      <th>SHAPE</th>\n",
       "    </tr>\n",
       "    <tr>\n",
       "      <th>Station Name</th>\n",
       "      <th></th>\n",
       "      <th></th>\n",
       "      <th></th>\n",
       "      <th></th>\n",
       "      <th></th>\n",
       "    </tr>\n",
       "  </thead>\n",
       "  <tbody>\n",
       "    <tr>\n",
       "      <th>Becker</th>\n",
       "      <td>55.49881</td>\n",
       "      <td>35.49517</td>\n",
       "      <td>45.34399</td>\n",
       "      <td>-93.85014</td>\n",
       "      <td>{\"spatialReference\": {\"wkid\": 4326}, \"x\": -93....</td>\n",
       "    </tr>\n",
       "    <tr>\n",
       "      <th>Humboldt</th>\n",
       "      <td>50.26750</td>\n",
       "      <td>28.63329</td>\n",
       "      <td>48.88351</td>\n",
       "      <td>-97.15029</td>\n",
       "      <td>{\"spatialReference\": {\"wkid\": 4326}, \"x\": -97....</td>\n",
       "    </tr>\n",
       "  </tbody>\n",
       "</table>\n",
       "</div>"
      ],
      "text/plain": [
       "              Avg Max Temp  Avg Min Temp  Latitude  Longitude  \\\n",
       "Station Name                                                    \n",
       "Becker            55.49881      35.49517  45.34399  -93.85014   \n",
       "Humboldt          50.26750      28.63329  48.88351  -97.15029   \n",
       "\n",
       "                                                          SHAPE  \n",
       "Station Name                                                     \n",
       "Becker        {\"spatialReference\": {\"wkid\": 4326}, \"x\": -93....  \n",
       "Humboldt      {\"spatialReference\": {\"wkid\": 4326}, \"x\": -97....  "
      ]
     },
     "execution_count": 9,
     "metadata": {},
     "output_type": "execute_result"
    }
   ],
   "source": [
    "# Now, calculate the mean of Max Temp and Min Temp for each station, and round to two decimal points so cleaner\n",
    "# Group by 'Station Name' and calculate the mean for 'Avg Max Temp' and 'Avg Min Temp', rounding to 2 decimal places\n",
    "sdf_grouped = df.groupby('Station Name')[['Avg Max Temp', 'Avg Min Temp', 'Latitude', 'Longitude']].mean().round(5)\n",
    "\n",
    "#sdf_grouped\n",
    "\n",
    "#convert latitude and longitude to point geometry\n",
    "sdf_NDAWN = GeoAccessor.from_xy(sdf_grouped, x_column='Longitude', y_column='Latitude', sr=4326)\n",
    "sdf_NDAWN\n",
    "\n",
    "#check geometry and sr\n",
    "#sdf_NDAWN.spatial.sr = {'wkid': 4326}\n",
    "\n",
    "sdf_NDAWN.spatial.set_geometry('SHAPE')\n",
    "print(sdf_NDAWN.spatial.sr)  \n",
    "print(sdf_NDAWN.spatial.geometry_type)  \n",
    "print(sdf_NDAWN.spatial.validate())\n",
    "\n",
    "sdf_NDAWN"
   ]
  },
  {
   "cell_type": "markdown",
   "id": "f5e33868-84b4-4c68-bed0-378e5cd3e4f7",
   "metadata": {},
   "source": [
    "So the average max temperature for the 48 month period at Humboldt, MN (north Minnesota) is about 5.23 degrees cooler then the the average max temperature for Becker, MN (south Minnesota). \n",
    "Further, the average min termperature for the 48 month period at Becker, MN (south Minnesota) is about 6.87 degrees warmer then the the average min temperature for Humboldt, MN (north Minnesota).\n"
   ]
  },
  {
   "cell_type": "code",
   "execution_count": 10,
   "id": "fccc54b5-2348-4b4f-ae69-f8765cdbbae5",
   "metadata": {},
   "outputs": [],
   "source": [
    "#Fully monthly Station data for the two sites can be downloaded to a csv\n",
    "NDAWN_station_data.to_csv('Lab_1_NDAWN_station_data.csv', index=False)\n",
    "\n",
    "#Station averages can be downloaded to a csv\n",
    "sdf_NDAWN.to_csv('Lab_1__NDAWNS_merged.csv', index=False)"
   ]
  },
  {
   "cell_type": "markdown",
   "id": "3dfdcf70-8d89-41a7-ae99-4462db473639",
   "metadata": {
    "jp-MarkdownHeadingCollapsed": true,
    "tags": []
   },
   "source": [
    "# * Spatially join two of the three datasets & print head of the table showing the merged attributes"
   ]
  },
  {
   "cell_type": "markdown",
   "id": "df5b1ba1-d857-4ebb-b472-405a24f88f59",
   "metadata": {},
   "source": [
    "I want to spatially join Minnesota Counties and NDAWN - Becker & Humboldt, MN datasets. From the joined database, I can identify the county names for each of the NDAWN sites used here. \n",
    "\n",
    "      sdf_mn_counties \n",
    "        -polygon geometry in column = 'SHAPE'{\"rings}\n",
    "        -county name in column = 'COUNTY_NAME'\n",
    "\n",
    "      NDAWN_station_data\n",
    "        -station name in column = 'Station Name'\n",
    "        -point geometry in column = 'SHAPE'\n",
    "        \n",
    "      Find NDAWN points that are within sdf_mn_counties polygons\n"
   ]
  },
  {
   "cell_type": "markdown",
   "id": "4ed2aa07",
   "metadata": {
    "heading_collapsed": true
   },
   "source": [
    "#### Simple map"
   ]
  },
  {
   "cell_type": "code",
   "execution_count": null,
   "id": "a4289030",
   "metadata": {
    "hidden": true
   },
   "outputs": [],
   "source": [
    "# Create the map object centered on Minnesota\n",
    "map4 = gis.map(\"Minnesota\")\n",
    "\n",
    "# Convert NDAWN data to FeatureCollection with renderer and add to map\n",
    "feature_NDAWN = sdf_NDAWN.spatial.to_feature_collection()\n",
    "map4.add_layer(feature_NDAWN)\n",
    "\n",
    "# Counties: Convert the spatial dataframes from above to a FeatureCollection and add to map\n",
    "feature_counties = sdf_mn_counties.spatial.to_feature_collection()\n",
    "map4.add_layer(feature_counties)\n",
    "\n",
    "#map is at the very bottom"
   ]
  },
  {
   "cell_type": "markdown",
   "id": "49e4bbe5",
   "metadata": {},
   "source": [
    "#### Spatial Join"
   ]
  },
  {
   "cell_type": "code",
   "execution_count": null,
   "id": "20f4bb6e",
   "metadata": {},
   "outputs": [],
   "source": [
    "print(\"sdf_mn_counties: \")\n",
    "\n",
    "#Check spatial reference of sdf_mn_counties \n",
    "print(sdf_mn_counties.spatial.sr)  \n",
    "\n",
    "#need to reproject sdf_mn_counties from 26915 to 4326\n",
    "#sdf_mn_counties.spatial.sr = {'wkid': 4326}\n",
    "sdf_mn_counties.spatial.project(SpatialReference(4326))\n",
    "\n",
    "#Check reprojected spatial reference of sdf_mn_counties \n",
    "print(sdf_mn_counties.spatial.sr)  \n",
    "print(sdf_mn_counties.spatial.geometry_type)  \n",
    "print(sdf_mn_counties.spatial.validate())\n",
    "print(sdf_mn_counties.columns)\n",
    "#sdf_mn_counties.head()"
   ]
  },
  {
   "cell_type": "code",
   "execution_count": null,
   "id": "802b05e1",
   "metadata": {},
   "outputs": [],
   "source": [
    "\n",
    "\n",
    "#Need to look at NDAWN_station_data and eliminate duplicate rows before spatial join\n",
    "NDAWN_station_data = NDAWN_station_data.drop_duplicates(subset='Station Name', keep='first')\n",
    "# reset indices \n",
    "NDAWN_station_data = NDAWN_station_data.reset_index(drop=True) \n",
    "#NDAWN_station_data.head()\n",
    "\n",
    "NDAWN_station_data.spatial.project(SpatialReference(26915))\n",
    "\n",
    "#Check spatial reference of NDAWN_station_data\n",
    "print(\"NDAWN_station_data: \")\n",
    "#NDAWN_station_data.spatial.sr \n",
    "NDAWN_station_data.spatial.geometry_type\n",
    "NDAWN_station_data.spatial.validate()\n",
    "#NDAWN_station_data.columns\n",
    "#NDAWN_station_data.head()\n",
    "\n"
   ]
  },
  {
   "cell_type": "code",
   "execution_count": null,
   "id": "12a27839",
   "metadata": {},
   "outputs": [],
   "source": [
    "#Reproject and confirm \n",
    "sdf_NDAWN.spatial.project(SpatialReference(4326))\n",
    "sdf_mn_counties.spatial.project(SpatialReference(4326))\n",
    "\n",
    "print(sdf_NDAWN.spatial.sr)\n",
    "print(sdf_mn_counties.spatial.sr)  \n"
   ]
  },
  {
   "cell_type": "code",
   "execution_count": null,
   "id": "933968e7",
   "metadata": {},
   "outputs": [],
   "source": [
    "# reset indices \n",
    "sdf_mn_counties = sdf_mn_counties.reset_index(drop=True)\n",
    "\n",
    "\n",
    "# Perform the spatial join using 'intersects'\n",
    "spatial_join = sdf_mn_counties.spatial.join(NDAWN_station_data, how='inner', op='intersects')\n",
    "\n",
    "\n",
    "\n",
    "# Check the results of the spatial join\n",
    "print(\"Minnesota County names for NDAWN stations:\")\n",
    "\n",
    "print(spatial_join[['Station Name', 'COUNTY_NAME']])\n"
   ]
  },
  {
   "cell_type": "code",
   "execution_count": 16,
   "id": "ac46fb71",
   "metadata": {},
   "outputs": [],
   "source": [
    "#spatial_join.head()\n",
    "#sdf_NDAWN.columns\n",
    "#sdf_mn_counties.columns"
   ]
  },
  {
   "cell_type": "markdown",
   "id": "f7d65687",
   "metadata": {},
   "source": [
    "To summarize...\n",
    "\n",
    "The two NDAWN sites in Minnesota choosen for this project are:\n",
    "    \n",
    "        -- Becker, MN is in Sherburne County, Minnesota\n",
    "        -- Humboldt, MN is in Kittson County, Minnesota"
   ]
  },
  {
   "cell_type": "markdown",
   "id": "e553f6ff-c78e-4fd7-a2e9-7014d55c4eed",
   "metadata": {
    "heading_collapsed": true,
    "jp-MarkdownHeadingCollapsed": true,
    "tags": []
   },
   "source": [
    "#### Merged table head"
   ]
  },
  {
   "cell_type": "code",
   "execution_count": 23,
   "id": "9c4d0e9a-7555-4d62-aeac-5bf809f8e621",
   "metadata": {
    "hidden": true
   },
   "outputs": [
    {
     "data": {
      "text/html": [
       "<div>\n",
       "<style scoped>\n",
       "    .dataframe tbody tr th:only-of-type {\n",
       "        vertical-align: middle;\n",
       "    }\n",
       "\n",
       "    .dataframe tbody tr th {\n",
       "        vertical-align: top;\n",
       "    }\n",
       "\n",
       "    .dataframe thead th {\n",
       "        text-align: right;\n",
       "    }\n",
       "</style>\n",
       "<table border=\"1\" class=\"dataframe\">\n",
       "  <thead>\n",
       "    <tr style=\"text-align: right;\">\n",
       "      <th></th>\n",
       "      <th>OBJECTID</th>\n",
       "      <th>COUNTY_NAME</th>\n",
       "      <th>COUNTY_CODE</th>\n",
       "      <th>COUNTY_FIPS55_CODE</th>\n",
       "      <th>COUNTY_GNIS_FEATURE_ID</th>\n",
       "      <th>ATP_CODE</th>\n",
       "      <th>Shape__Area</th>\n",
       "      <th>Shape__Length</th>\n",
       "      <th>SHAPE</th>\n",
       "      <th>index_right</th>\n",
       "      <th>Station Name</th>\n",
       "      <th>Latitude</th>\n",
       "      <th>Longitude</th>\n",
       "      <th>Year</th>\n",
       "      <th>Month</th>\n",
       "      <th>Avg Max Temp</th>\n",
       "      <th>Avg Min Temp</th>\n",
       "    </tr>\n",
       "  </thead>\n",
       "  <tbody>\n",
       "    <tr>\n",
       "      <th>0</th>\n",
       "      <td>253</td>\n",
       "      <td>Kittson</td>\n",
       "      <td>35</td>\n",
       "      <td>069</td>\n",
       "      <td>659480</td>\n",
       "      <td>2</td>\n",
       "      <td>0.0</td>\n",
       "      <td>0.0</td>\n",
       "      <td>{\"rings\": [[[-97.0839237552649, 49.00033853807...</td>\n",
       "      <td>1</td>\n",
       "      <td>Humboldt</td>\n",
       "      <td>48.88351</td>\n",
       "      <td>-97.15029</td>\n",
       "      <td>2020</td>\n",
       "      <td>10</td>\n",
       "      <td>45.515</td>\n",
       "      <td>25.838</td>\n",
       "    </tr>\n",
       "    <tr>\n",
       "      <th>1</th>\n",
       "      <td>178</td>\n",
       "      <td>Sherburne</td>\n",
       "      <td>71</td>\n",
       "      <td>141</td>\n",
       "      <td>659515</td>\n",
       "      <td>3</td>\n",
       "      <td>0.0</td>\n",
       "      <td>0.0</td>\n",
       "      <td>{\"rings\": [[[-94.03581736621345, 45.5590780377...</td>\n",
       "      <td>0</td>\n",
       "      <td>Becker</td>\n",
       "      <td>45.34399</td>\n",
       "      <td>-93.85014</td>\n",
       "      <td>2020</td>\n",
       "      <td>10</td>\n",
       "      <td>49.622</td>\n",
       "      <td>32.215</td>\n",
       "    </tr>\n",
       "  </tbody>\n",
       "</table>\n",
       "</div>"
      ],
      "text/plain": [
       "   OBJECTID COUNTY_NAME COUNTY_CODE COUNTY_FIPS55_CODE  \\\n",
       "0       253     Kittson          35                069   \n",
       "1       178   Sherburne          71                141   \n",
       "\n",
       "   COUNTY_GNIS_FEATURE_ID ATP_CODE  Shape__Area  Shape__Length  \\\n",
       "0                  659480        2          0.0            0.0   \n",
       "1                  659515        3          0.0            0.0   \n",
       "\n",
       "                                               SHAPE  index_right  \\\n",
       "0  {\"rings\": [[[-97.0839237552649, 49.00033853807...            1   \n",
       "1  {\"rings\": [[[-94.03581736621345, 45.5590780377...            0   \n",
       "\n",
       "  Station Name  Latitude  Longitude  Year  Month  Avg Max Temp  Avg Min Temp  \n",
       "0     Humboldt  48.88351  -97.15029  2020     10        45.515        25.838  \n",
       "1       Becker  45.34399  -93.85014  2020     10        49.622        32.215  "
      ]
     },
     "execution_count": 23,
     "metadata": {},
     "output_type": "execute_result"
    }
   ],
   "source": [
    "spatial_join.head()"
   ]
  },
  {
   "cell_type": "code",
   "execution_count": 18,
   "id": "37bc1c4e-67e1-4027-9c14-d452849dd095",
   "metadata": {
    "hidden": true
   },
   "outputs": [],
   "source": [
    "#Saved spatial joined table\n",
    "spatial_join.to_csv('Lab_1__Joined_Set.csv', index=False)"
   ]
  },
  {
   "cell_type": "markdown",
   "id": "ab702fe1-a609-4e5b-b0d3-64fdb0db6614",
   "metadata": {
    "heading_collapsed": true,
    "jp-MarkdownHeadingCollapsed": true,
    "tags": []
   },
   "source": [
    "# * Save the integrated dataset to a geodatabase"
   ]
  },
  {
   "cell_type": "code",
   "execution_count": 19,
   "id": "cda141d6-cb03-4a88-b8be-e847e5c31df2",
   "metadata": {
    "hidden": true
   },
   "outputs": [
    {
     "data": {
      "text/plain": [
       "'/arcgis/Lab_1__Joined_Set.gdb/Lab_1__Joined_Set.shp'"
      ]
     },
     "execution_count": 19,
     "metadata": {},
     "output_type": "execute_result"
    }
   ],
   "source": [
    "# Save the Statial Join DataFrame to geodatabase\n",
    "#spatial_join\n",
    "\n",
    "Lab_1__Joined_Set = spatial_join\n",
    "feature_class_name = 'Lab_1__Joined_Set'  \n",
    "output_path_join = spatial_join.spatial.to_featureclass(location=f'Lab_1__Joined_Set.gdb/{feature_class_name}')\n",
    "output_path_join"
   ]
  },
  {
   "cell_type": "code",
   "execution_count": 24,
   "id": "7df21823",
   "metadata": {
    "hidden": true
   },
   "outputs": [
    {
     "data": {
      "application/vnd.jupyter.widget-view+json": {
       "model_id": "237f3e3146c64bd6aa611b1404a0cf2a",
       "version_major": 2,
       "version_minor": 0
      },
      "text/plain": [
       "MapView(jupyter_target='notebook', layout=Layout(height='400px', width='100%'), ready=True)"
      ]
     },
     "metadata": {},
     "output_type": "display_data"
    },
    {
     "data": {
      "text/html": [
       "<div class=\"map-static-img-preview-bac846b3-3157-49a7-bdaf-d399b67ebe6b\"><img src=\"\"></img></div>"
      ],
      "text/plain": [
       "<IPython.core.display.HTML object>"
      ]
     },
     "metadata": {},
     "output_type": "display_data"
    },
    {
     "data": {
      "text/html": [
       "<div class=\"map-html-embed-preview-bac846b3-3157-49a7-bdaf-d399b67ebe6b\"></div>"
      ],
      "text/plain": [
       "<IPython.core.display.HTML object>"
      ]
     },
     "metadata": {},
     "output_type": "display_data"
    }
   ],
   "source": [
    "# Display the map\n",
    "map4"
   ]
  },
  {
   "cell_type": "code",
   "execution_count": null,
   "id": "44317cac",
   "metadata": {
    "hidden": true
   },
   "outputs": [],
   "source": []
  }
 ],
 "metadata": {
  "kernelspec": {
   "display_name": "Python 3 (ipykernel)",
   "language": "python",
   "name": "python3"
  },
  "language_info": {
   "codemirror_mode": {
    "name": "ipython",
    "version": 3
   },
   "file_extension": ".py",
   "mimetype": "text/x-python",
   "name": "python",
   "nbconvert_exporter": "python",
   "pygments_lexer": "ipython3",
   "version": "3.11.8"
  }
 },
 "nbformat": 4,
 "nbformat_minor": 5
}
