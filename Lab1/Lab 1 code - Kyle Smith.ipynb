{
 "cells": [
  {
   "cell_type": "markdown",
   "id": "a42591f7-7b6b-42b6-99f1-51cc72c9941e",
   "metadata": {
    "tags": []
   },
   "source": [
    "# GIS 5571 Lab 1\n",
    "\n",
    "## Kyle Smith, smi02542@umn.edu\n",
    "\n",
    "----"
   ]
  },
  {
   "cell_type": "markdown",
   "id": "a73bf4a2-ee48-4f10-99d1-290e03eabc24",
   "metadata": {
    "jp-MarkdownHeadingCollapsed": true,
    "tags": []
   },
   "source": [
    "#### Python packages"
   ]
  },
  {
   "cell_type": "code",
   "execution_count": 1,
   "id": "322ca94c-6526-486f-ba65-32500d7b6a00",
   "metadata": {},
   "outputs": [],
   "source": [
    "# !pip install arcgis\n",
    "# !pip install shapely\n",
    "# !pip install ipywidgets "
   ]
  },
  {
   "cell_type": "code",
   "execution_count": 2,
   "id": "814f0c56-c20c-45ea-b057-91be678246fa",
   "metadata": {},
   "outputs": [],
   "source": [
    "import os\n",
    "import json\n",
    "import requests\n",
    "import zipfile\n",
    "import pandas as pd\n",
    "import matplotlib.pyplot as plt\n",
    "from io import BytesIO\n",
    "from osgeo import ogr\n",
    "from pyproj import Transformer\n",
    "from shapely import wkt\n",
    "from arcgis.gis import GIS\n",
    "from arcgis.features import GeoAccessor, GeoSeriesAccessor\n",
    "from arcgis.features import FeatureSet\n",
    "from arcgis.geometry import Geometry, Polyline, SpatialReference\n",
    "from arcgis.mapping import WebMap\n",
    "from arcgis.widgets import MapView\n",
    "import shapefile\n",
    "import ipywidgets  as widgets\n",
    "import warnings\n",
    "\n",
    "gis = GIS()\n",
    "\n",
    "warnings.simplefilter(action='ignore', category=FutureWarning)"
   ]
  },
  {
   "cell_type": "markdown",
   "id": "370e20f9-ccc1-40fb-8989-6515a3f080f6",
   "metadata": {},
   "source": [
    "# * Download three datasets (one from each API), convert to spatially enabled databases & same coordinate reference system"
   ]
  },
  {
   "cell_type": "markdown",
   "id": "54347c39-cb6a-40bb-83c6-4111ffefbc10",
   "metadata": {
    "jp-MarkdownHeadingCollapsed": true,
    "tags": []
   },
   "source": [
    "#### 1. Minnesota Geospatial Commons API (Strategic_Highways)"
   ]
  },
  {
   "cell_type": "markdown",
   "id": "0ba27b0a-3b96-4cce-9a90-bbb775f10c7f",
   "metadata": {},
   "source": [
    "Dataset: National Highway System, Truck Network, and Strategic Highway Network - https://gisdata.mn.gov/dataset/trans-federal-routes\n",
    "Specifically, I will use the \"Strategic_Highway_Network_in_Minnesota\" feature service, which only includes roads identified as priority routes for national defense purposes. "
   ]
  },
  {
   "cell_type": "code",
   "execution_count": 3,
   "id": "7d45ec80-56da-4f58-bc61-d8d0cb645189",
   "metadata": {},
   "outputs": [
    {
     "data": {
      "text/html": [
       "<div>\n",
       "<style scoped>\n",
       "    .dataframe tbody tr th:only-of-type {\n",
       "        vertical-align: middle;\n",
       "    }\n",
       "\n",
       "    .dataframe tbody tr th {\n",
       "        vertical-align: top;\n",
       "    }\n",
       "\n",
       "    .dataframe thead th {\n",
       "        text-align: right;\n",
       "    }\n",
       "</style>\n",
       "<table border=\"1\" class=\"dataframe\">\n",
       "  <thead>\n",
       "    <tr style=\"text-align: right;\">\n",
       "      <th></th>\n",
       "      <th>index</th>\n",
       "      <th>ROUTE_ID</th>\n",
       "      <th>FROM_MEASU</th>\n",
       "      <th>TO_MEASURE</th>\n",
       "      <th>STRAHNET_T</th>\n",
       "      <th>DESCRIPTIO</th>\n",
       "      <th>SHAPE_Leng</th>\n",
       "      <th>SHAPE</th>\n",
       "      <th>OBJECTID</th>\n",
       "    </tr>\n",
       "  </thead>\n",
       "  <tbody>\n",
       "    <tr>\n",
       "      <th>0</th>\n",
       "      <td>0</td>\n",
       "      <td>0100000000000494-D</td>\n",
       "      <td>57.961597</td>\n",
       "      <td>73.234683</td>\n",
       "      <td>1</td>\n",
       "      <td>Regular STRAHNET</td>\n",
       "      <td>24579.697774</td>\n",
       "      <td>{\"paths\": [[[503256.36000000034, 4977233.66300...</td>\n",
       "      <td>0</td>\n",
       "    </tr>\n",
       "    <tr>\n",
       "      <th>1</th>\n",
       "      <td>1</td>\n",
       "      <td>0100000000000694-I</td>\n",
       "      <td>47.106922</td>\n",
       "      <td>57.984908</td>\n",
       "      <td>1</td>\n",
       "      <td>Regular STRAHNET</td>\n",
       "      <td>17506.456288</td>\n",
       "      <td>{\"paths\": [[[494709.52610000037, 4987043.71199...</td>\n",
       "      <td>1</td>\n",
       "    </tr>\n",
       "    <tr>\n",
       "      <th>2</th>\n",
       "      <td>2</td>\n",
       "      <td>0100000000000694-I</td>\n",
       "      <td>34.191000</td>\n",
       "      <td>46.422312</td>\n",
       "      <td>1</td>\n",
       "      <td>Regular STRAHNET</td>\n",
       "      <td>19684.428654</td>\n",
       "      <td>{\"paths\": [[[475176.2259999998, 4991125.4], [4...</td>\n",
       "      <td>2</td>\n",
       "    </tr>\n",
       "    <tr>\n",
       "      <th>3</th>\n",
       "      <td>3</td>\n",
       "      <td>0100000000000035-I</td>\n",
       "      <td>127.649648</td>\n",
       "      <td>259.644667</td>\n",
       "      <td>1</td>\n",
       "      <td>Regular STRAHNET</td>\n",
       "      <td>212425.816714</td>\n",
       "      <td>{\"paths\": [[[497817.5630000001, 5007716.501], ...</td>\n",
       "      <td>3</td>\n",
       "    </tr>\n",
       "    <tr>\n",
       "      <th>4</th>\n",
       "      <td>4</td>\n",
       "      <td>0100000000000094-I</td>\n",
       "      <td>0.000000</td>\n",
       "      <td>242.495682</td>\n",
       "      <td>1</td>\n",
       "      <td>Regular STRAHNET</td>\n",
       "      <td>390259.751144</td>\n",
       "      <td>{\"paths\": [[[211757.93800000008, 5195178.5], [...</td>\n",
       "      <td>4</td>\n",
       "    </tr>\n",
       "  </tbody>\n",
       "</table>\n",
       "</div>"
      ],
      "text/plain": [
       "   index            ROUTE_ID  FROM_MEASU  TO_MEASURE  STRAHNET_T  \\\n",
       "0      0  0100000000000494-D   57.961597   73.234683           1   \n",
       "1      1  0100000000000694-I   47.106922   57.984908           1   \n",
       "2      2  0100000000000694-I   34.191000   46.422312           1   \n",
       "3      3  0100000000000035-I  127.649648  259.644667           1   \n",
       "4      4  0100000000000094-I    0.000000  242.495682           1   \n",
       "\n",
       "         DESCRIPTIO     SHAPE_Leng  \\\n",
       "0  Regular STRAHNET   24579.697774   \n",
       "1  Regular STRAHNET   17506.456288   \n",
       "2  Regular STRAHNET   19684.428654   \n",
       "3  Regular STRAHNET  212425.816714   \n",
       "4  Regular STRAHNET  390259.751144   \n",
       "\n",
       "                                               SHAPE  OBJECTID  \n",
       "0  {\"paths\": [[[503256.36000000034, 4977233.66300...         0  \n",
       "1  {\"paths\": [[[494709.52610000037, 4987043.71199...         1  \n",
       "2  {\"paths\": [[[475176.2259999998, 4991125.4], [4...         2  \n",
       "3  {\"paths\": [[[497817.5630000001, 5007716.501], ...         3  \n",
       "4  {\"paths\": [[[211757.93800000008, 5195178.5], [...         4  "
      ]
     },
     "execution_count": 3,
     "metadata": {},
     "output_type": "execute_result"
    }
   ],
   "source": [
    "# Use CKAN to search MN Geospatial Commons for \"trans-federal-routes\" \n",
    "api = \"https://gisdata.mn.gov/api/3/action/package_search?q=trans-federal-routes\"\n",
    "\n",
    "# Request to GET from the API\n",
    "response = requests.get(api)\n",
    "\n",
    "# Load the JSON extracted from API search results \n",
    "json_data = response.json()\n",
    "\n",
    "# Find the path in JSON for 'trans-federal-routes'\n",
    "zip_url = json_data['result']['results'][0]['resources'][0]['url']\n",
    "zip_url\n",
    "\n",
    "# Download the zip file\n",
    "zip_file_path = 'trans_federal_routes.zip'\n",
    "with requests.get(zip_url, stream=True) as r:\n",
    "    with open(zip_file_path, 'wb') as f:\n",
    "        for chunk in r.iter_content(chunk_size=8192):\n",
    "            f.write(chunk)\n",
    "            \n",
    "# Extract the ZIP file\n",
    "extraction_path = \"trans_federal_routes_data\"\n",
    "with zipfile.ZipFile(zip_file_path, 'r') as zip_ref:\n",
    "    zip_ref.extractall(extraction_path)\n",
    "\n",
    "# List the extracted files\n",
    "extracted_files = os.listdir(extraction_path)\n",
    "#extracted_files\n",
    "\n",
    "# looking for .... trans_federal_routes_data/Strategic_Highway_Network_in_Minnesota.shp\n",
    "file_path = 'trans_federal_routes_data/Strategic_Highway_Network_in_Minnesota.shp'\n",
    "\n",
    "# Make a Spatially Enabled DataFrame and check it\n",
    "sdf_Strategic_Highways = pd.DataFrame.spatial.from_featureclass(file_path)\n",
    "#sdf_Strategic_Highways.head()\n",
    "\n",
    "#geometry is in SHAPE column\n",
    "#Make it spatial and set sr\n",
    "sdf_Strategic_Highways = pd.DataFrame.spatial.from_df(sdf_Strategic_Highways, geometry_column='SHAPE', sr=4326)\n",
    "sdf_Strategic_Highways.head()"
   ]
  },
  {
   "cell_type": "code",
   "execution_count": 4,
   "id": "6956a163-be17-4b6b-bca3-e6687cb80cd4",
   "metadata": {},
   "outputs": [
    {
     "name": "stdout",
     "output_type": "stream",
     "text": [
      "Spatial Reference =  {0: 4326}\n"
     ]
    }
   ],
   "source": [
    "print(\"Spatial Reference = \", sdf_Strategic_Highways.spatial.sr)"
   ]
  },
  {
   "cell_type": "code",
   "execution_count": 5,
   "id": "814842ac-d35a-4dc6-bf91-f47a7d954d24",
   "metadata": {},
   "outputs": [],
   "source": [
    "# Save as CSV\n",
    "sdf_Strategic_Highways.to_csv('Lab_1__MNGeo_Strategic_Highways.csv', index=False)"
   ]
  },
  {
   "cell_type": "markdown",
   "id": "5759e719-b104-495f-aac6-8ab1fb9718a6",
   "metadata": {
    "jp-MarkdownHeadingCollapsed": true,
    "tags": []
   },
   "source": [
    "#### 2. REST API (mn_counties)"
   ]
  },
  {
   "cell_type": "markdown",
   "id": "9a2d6b20-7eed-4e38-8c7e-e35ab2b3490a",
   "metadata": {},
   "source": [
    "Dataset: County boundaries in Minnesota (polygons) - https://webgis.dot.state.mn.us/65agsf1/rest/services/sdw_govnt/COUNTY/FeatureServer/0"
   ]
  },
  {
   "cell_type": "code",
   "execution_count": 6,
   "id": "d21a8a41-7c75-4b0c-9c31-f1aad8d793e9",
   "metadata": {},
   "outputs": [
    {
     "name": "stdout",
     "output_type": "stream",
     "text": [
      "Spatial Reference =  {0: 4326}\n"
     ]
    }
   ],
   "source": [
    "# REST API URL\n",
    "api = 'https://webgis.dot.state.mn.us/65agsf1/rest/services/sdw_govnt/COUNTY/FeatureServer/0/query?where=1%3D1&outFields=*&returnGeometry=true&f=pjson'\n",
    "\n",
    "\n",
    "# Request data from the API\n",
    "r = requests.get(api)\n",
    "data = r.json()\n",
    "\n",
    "# Create a FeatureSet from the JSON data\n",
    "fs = FeatureSet.from_dict(data)\n",
    "\n",
    "# Create a Spatially Enabled DataFrame from the FeatureSet\n",
    "sdf_mn_counties = fs.sdf\n",
    "\n",
    "\n",
    "# Project the DataFrame to WGS 84 (WKID 4326)\n",
    "if sdf_mn_counties.spatial.sr is None:\n",
    "    sdf_mn_counties.spatial.set_geometry('SHAPE', sr={'wkid': 4326}) \n",
    "sdf_mn_counties.spatial.project(4326)\n",
    "\n",
    "print(\"Spatial Reference = \", sdf_mn_counties.spatial.sr)"
   ]
  },
  {
   "cell_type": "code",
   "execution_count": 7,
   "id": "4a098f8d-d06d-4f62-9097-3835e1187b73",
   "metadata": {},
   "outputs": [
    {
     "data": {
      "text/html": [
       "<div>\n",
       "<style scoped>\n",
       "    .dataframe tbody tr th:only-of-type {\n",
       "        vertical-align: middle;\n",
       "    }\n",
       "\n",
       "    .dataframe tbody tr th {\n",
       "        vertical-align: top;\n",
       "    }\n",
       "\n",
       "    .dataframe thead th {\n",
       "        text-align: right;\n",
       "    }\n",
       "</style>\n",
       "<table border=\"1\" class=\"dataframe\">\n",
       "  <thead>\n",
       "    <tr style=\"text-align: right;\">\n",
       "      <th></th>\n",
       "      <th>OBJECTID</th>\n",
       "      <th>COUNTY_NAME</th>\n",
       "      <th>COUNTY_CODE</th>\n",
       "      <th>COUNTY_FIPS55_CODE</th>\n",
       "      <th>COUNTY_GNIS_FEATURE_ID</th>\n",
       "      <th>ATP_CODE</th>\n",
       "      <th>Shape__Area</th>\n",
       "      <th>Shape__Length</th>\n",
       "      <th>SHAPE</th>\n",
       "    </tr>\n",
       "  </thead>\n",
       "  <tbody>\n",
       "    <tr>\n",
       "      <th>0</th>\n",
       "      <td>224</td>\n",
       "      <td>Mower</td>\n",
       "      <td>50</td>\n",
       "      <td>099</td>\n",
       "      <td>659495</td>\n",
       "      <td>6</td>\n",
       "      <td>0.0</td>\n",
       "      <td>0.0</td>\n",
       "      <td>{\"rings\": [[[-92.68951161127112, 43.8485704225...</td>\n",
       "    </tr>\n",
       "    <tr>\n",
       "      <th>1</th>\n",
       "      <td>245</td>\n",
       "      <td>Wabasha</td>\n",
       "      <td>79</td>\n",
       "      <td>157</td>\n",
       "      <td>659523</td>\n",
       "      <td>6</td>\n",
       "      <td>0.0</td>\n",
       "      <td>0.0</td>\n",
       "      <td>{\"rings\": [[[-92.27477670474744, 44.4544717596...</td>\n",
       "    </tr>\n",
       "    <tr>\n",
       "      <th>2</th>\n",
       "      <td>220</td>\n",
       "      <td>Big Stone</td>\n",
       "      <td>06</td>\n",
       "      <td>011</td>\n",
       "      <td>659451</td>\n",
       "      <td>4</td>\n",
       "      <td>0.0</td>\n",
       "      <td>0.0</td>\n",
       "      <td>{\"rings\": [[[-96.24096168079812, 45.4266950280...</td>\n",
       "    </tr>\n",
       "    <tr>\n",
       "      <th>3</th>\n",
       "      <td>231</td>\n",
       "      <td>Wilkin</td>\n",
       "      <td>84</td>\n",
       "      <td>167</td>\n",
       "      <td>659528</td>\n",
       "      <td>4</td>\n",
       "      <td>0.0</td>\n",
       "      <td>0.0</td>\n",
       "      <td>{\"rings\": [[[-96.63527871577124, 46.6305379652...</td>\n",
       "    </tr>\n",
       "    <tr>\n",
       "      <th>4</th>\n",
       "      <td>198</td>\n",
       "      <td>Isanti</td>\n",
       "      <td>30</td>\n",
       "      <td>059</td>\n",
       "      <td>659475</td>\n",
       "      <td>3</td>\n",
       "      <td>0.0</td>\n",
       "      <td>0.0</td>\n",
       "      <td>{\"rings\": [[[-93.38911104584567, 45.7307160304...</td>\n",
       "    </tr>\n",
       "  </tbody>\n",
       "</table>\n",
       "</div>"
      ],
      "text/plain": [
       "   OBJECTID COUNTY_NAME COUNTY_CODE COUNTY_FIPS55_CODE  \\\n",
       "0       224       Mower          50                099   \n",
       "1       245     Wabasha          79                157   \n",
       "2       220   Big Stone          06                011   \n",
       "3       231      Wilkin          84                167   \n",
       "4       198      Isanti          30                059   \n",
       "\n",
       "   COUNTY_GNIS_FEATURE_ID ATP_CODE  Shape__Area  Shape__Length  \\\n",
       "0                  659495        6          0.0            0.0   \n",
       "1                  659523        6          0.0            0.0   \n",
       "2                  659451        4          0.0            0.0   \n",
       "3                  659528        4          0.0            0.0   \n",
       "4                  659475        3          0.0            0.0   \n",
       "\n",
       "                                               SHAPE  \n",
       "0  {\"rings\": [[[-92.68951161127112, 43.8485704225...  \n",
       "1  {\"rings\": [[[-92.27477670474744, 44.4544717596...  \n",
       "2  {\"rings\": [[[-96.24096168079812, 45.4266950280...  \n",
       "3  {\"rings\": [[[-96.63527871577124, 46.6305379652...  \n",
       "4  {\"rings\": [[[-93.38911104584567, 45.7307160304...  "
      ]
     },
     "execution_count": 7,
     "metadata": {},
     "output_type": "execute_result"
    }
   ],
   "source": [
    "sdf_mn_counties.head()"
   ]
  },
  {
   "cell_type": "code",
   "execution_count": 8,
   "id": "0f324ca6-c328-4801-b8b2-9103d810b3f3",
   "metadata": {},
   "outputs": [],
   "source": [
    "#make a csv\n",
    "sdf_mn_counties.to_csv('Lab_1__REST_MN_counties.csv', index=False)"
   ]
  },
  {
   "cell_type": "markdown",
   "id": "70f32382-4f4d-4157-9c27-a8e91515f2c0",
   "metadata": {
    "jp-MarkdownHeadingCollapsed": true,
    "tags": []
   },
   "source": [
    "#### 3. NDAWN"
   ]
  },
  {
   "cell_type": "markdown",
   "id": "d78190bb-9e1b-4704-a53a-8f4697fe0a17",
   "metadata": {},
   "source": [
    "Using available data from NDAWN, find the monthly average max temp and annual monthly min temp for a 48 month period at a NDAWN site in north Minnesota and south Minnesota\n",
    "\n",
    "    -- NDAWN Station: Humboldt, MN (Station ID 4) - site in north Minnesota \n",
    "    -- NDAWN Station: Becker, MN (Station ID 118) - site in south Minnesota "
   ]
  },
  {
   "cell_type": "code",
   "execution_count": 9,
   "id": "408db75a-8930-4ea8-b096-d75c05cf1e76",
   "metadata": {},
   "outputs": [
    {
     "data": {
      "text/html": [
       "<div>\n",
       "<style scoped>\n",
       "    .dataframe tbody tr th:only-of-type {\n",
       "        vertical-align: middle;\n",
       "    }\n",
       "\n",
       "    .dataframe tbody tr th {\n",
       "        vertical-align: top;\n",
       "    }\n",
       "\n",
       "    .dataframe thead th {\n",
       "        text-align: right;\n",
       "    }\n",
       "</style>\n",
       "<table border=\"1\" class=\"dataframe\">\n",
       "  <thead>\n",
       "    <tr style=\"text-align: right;\">\n",
       "      <th></th>\n",
       "      <th>Avg Max Temp</th>\n",
       "      <th>Avg Min Temp</th>\n",
       "      <th>Latitude</th>\n",
       "      <th>Longitude</th>\n",
       "      <th>SHAPE</th>\n",
       "    </tr>\n",
       "    <tr>\n",
       "      <th>Station Name</th>\n",
       "      <th></th>\n",
       "      <th></th>\n",
       "      <th></th>\n",
       "      <th></th>\n",
       "      <th></th>\n",
       "    </tr>\n",
       "  </thead>\n",
       "  <tbody>\n",
       "    <tr>\n",
       "      <th>Becker</th>\n",
       "      <td>55.49881</td>\n",
       "      <td>35.49517</td>\n",
       "      <td>45.34399</td>\n",
       "      <td>-93.85014</td>\n",
       "      <td>{\"spatialReference\": {\"wkid\": 4326}, \"x\": -93....</td>\n",
       "    </tr>\n",
       "    <tr>\n",
       "      <th>Humboldt</th>\n",
       "      <td>50.26750</td>\n",
       "      <td>28.63329</td>\n",
       "      <td>48.88351</td>\n",
       "      <td>-97.15029</td>\n",
       "      <td>{\"spatialReference\": {\"wkid\": 4326}, \"x\": -97....</td>\n",
       "    </tr>\n",
       "  </tbody>\n",
       "</table>\n",
       "</div>"
      ],
      "text/plain": [
       "              Avg Max Temp  Avg Min Temp  Latitude  Longitude  \\\n",
       "Station Name                                                    \n",
       "Becker            55.49881      35.49517  45.34399  -93.85014   \n",
       "Humboldt          50.26750      28.63329  48.88351  -97.15029   \n",
       "\n",
       "                                                          SHAPE  \n",
       "Station Name                                                     \n",
       "Becker        {\"spatialReference\": {\"wkid\": 4326}, \"x\": -93....  \n",
       "Humboldt      {\"spatialReference\": {\"wkid\": 4326}, \"x\": -97....  "
      ]
     },
     "execution_count": 9,
     "metadata": {},
     "output_type": "execute_result"
    }
   ],
   "source": [
    "#Call api from NDAWN\n",
    "api = 'https://ndawn.ndsu.nodak.edu/table.csv?station=118&station=4&variable=mdmxt&variable=mdmnt&year=2024&ttype=monthly&quick_pick=4_y&begin_date=2019-01&count=12'\n",
    "#api is comma delimited csv file\n",
    "\n",
    "#view api path on web (JSON) as it does not open as a data frame in current form\n",
    "\n",
    "\n",
    "#columns / rows appear to be missalligned because raw NDAWNS csv header rows are merged\n",
    "#To fix, skip rows 0, 1, 2, 4\n",
    "#Column headers are row 3\n",
    "\n",
    "#Pandas create a data frame and skip rows  0, 1, 2, 4\n",
    "df = pd.read_csv(api, skiprows=[0, 1, 2, 4])\n",
    "\n",
    "#For simplicity, Can also skip/drop columns 3,7,8,10,11 \n",
    "df = df.drop(df.columns[[3,7,8,10,11]], axis=1)\n",
    "\n",
    "NDAWN_station_data = pd.DataFrame(df)\n",
    "#NDAWN_station_data\n",
    "\n",
    "\n",
    "\n",
    "#View NDAWN_station_data\n",
    "#Should be 96 rows and columns: Name / Latitude / Longitude / year / Month / Max / Min \n",
    "#NDAWN_station_data\n",
    "\n",
    "# Now, calculate the mean of Max Temp and Min Temp for each station, and round to two decimal points so cleaner\n",
    "# Group by 'Station Name' and calculate the mean for 'Avg Max Temp' and 'Avg Min Temp', rounding to 2 decimal places\n",
    "sdf_grouped = df.groupby('Station Name')[['Avg Max Temp', 'Avg Min Temp', 'Latitude', 'Longitude']].mean().round(5)\n",
    "\n",
    "#sdf_grouped\n",
    "\n",
    "#convert latitude and longitude to point geometry\n",
    "sdf_NDAWN = GeoAccessor.from_xy(sdf_grouped, x_column='Longitude', y_column='Latitude', sr=4326)\n",
    "sdf_NDAWN\n"
   ]
  },
  {
   "cell_type": "markdown",
   "id": "f5e33868-84b4-4c68-bed0-378e5cd3e4f7",
   "metadata": {},
   "source": [
    "So the average max temperature for the 48 month period at Humboldt, MN (north Minnesota) is about 5.23 degrees cooler then the the average max temperature for Becker, MN (south Minnesota). \n",
    "Further, the average min termperature for the 48 month period at Becker, MN (south Minnesota) is about 6.87 degrees warmer then the the average min temperature for Humboldt, MN (north Minnesota).\n",
    "\n",
    "Mind blown?"
   ]
  },
  {
   "cell_type": "code",
   "execution_count": 10,
   "id": "fccc54b5-2348-4b4f-ae69-f8765cdbbae5",
   "metadata": {},
   "outputs": [
    {
     "name": "stdout",
     "output_type": "stream",
     "text": [
      "Spatial Reference =  {'wkid': 4326}\n"
     ]
    }
   ],
   "source": [
    "#Fully monthly Station data for the two sites can be downloaded to a csv\n",
    "NDAWN_station_data.to_csv('Lab_1_NDAWN_station_data.csv', index=False)\n",
    "\n",
    "#Station averages can be downloaded to a csv\n",
    "sdf_NDAWN.to_csv('Lab_1__NDAWNS_merged.csv', index=False)\n",
    "\n",
    "print(\"Spatial Reference = \", sdf_NDAWN.spatial.sr)"
   ]
  },
  {
   "cell_type": "markdown",
   "id": "3dfdcf70-8d89-41a7-ae99-4462db473639",
   "metadata": {
    "jp-MarkdownHeadingCollapsed": true,
    "tags": []
   },
   "source": [
    "# * Spatially join two of the three datasets & print head of the table showing the merged attributes"
   ]
  },
  {
   "cell_type": "markdown",
   "id": "df5b1ba1-d857-4ebb-b472-405a24f88f59",
   "metadata": {},
   "source": [
    "I want to spatially join Minnesota Counties and NDAWN - Becker & Humboldt, MN datasets. From the joined database, I can identify the county names for each of the NDAWN sites used here. \n",
    "\n",
    "      sdf_mn_counties \n",
    "        -polygon geometry in column = 'SHAPE'{\"rings}\n",
    "        -county name in column = 'COUNTY_NAME'\n",
    "\n",
    "      sdf_NDAWN\n",
    "        -station name in column = 'Station Name'\n",
    "        -point geometry in column = 'SHAPE'\n",
    "        \n",
    "      Find NDAWN points that are within sdf_mn_counties polygons\n"
   ]
  },
  {
   "cell_type": "markdown",
   "id": "49e4bbe5",
   "metadata": {},
   "source": [
    "#### Spatial Join"
   ]
  },
  {
   "cell_type": "code",
   "execution_count": 11,
   "id": "38e9fc72",
   "metadata": {},
   "outputs": [
    {
     "name": "stdout",
     "output_type": "stream",
     "text": [
      "Minnesota County name for selected NDAWN sites:\n",
      "  Station Name COUNTY_NAME\n",
      "0       Becker   Sherburne\n",
      "1     Humboldt     Kittson\n"
     ]
    }
   ],
   "source": [
    "#Ensure both dataframes are spatially enabled\n",
    "sdf_mn_counties.spatial.set_geometry('SHAPE')\n",
    "sdf_NDAWN.spatial.set_geometry('SHAPE')\n",
    "\n",
    "# Reset indexes\n",
    "sdf_mn_counties = sdf_mn_counties.reset_index()\n",
    "sdf_NDAWN = sdf_NDAWN.reset_index()\n",
    "\n",
    "# Do the spatial join ... NDAWN points  within sdf_mn_counties \n",
    "spatial_join = sdf_NDAWN.spatial.join(sdf_mn_counties, how='left', op='within')\n",
    "spatial_join.spatial.set_geometry('SHAPE')\n",
    "print(\"Minnesota County name for selected NDAWN sites:\")\n",
    "print(spatial_join[['Station Name', 'COUNTY_NAME']])"
   ]
  },
  {
   "cell_type": "code",
   "execution_count": 12,
   "id": "ac46fb71",
   "metadata": {},
   "outputs": [],
   "source": [
    "#spatial_join.head()\n",
    "#sdf_NDAWN.columns\n",
    "#sdf_mn_counties.columns"
   ]
  },
  {
   "cell_type": "markdown",
   "id": "f7d65687",
   "metadata": {},
   "source": [
    "To summarize...\n",
    "\n",
    "The two NDAWN sites in Minnesota choosen for this project are:\n",
    "    \n",
    "        -- Becker, MN is in Sherburne County, Minnesota\n",
    "        -- Humboldt, MN is in Kittson County, Minnesota"
   ]
  },
  {
   "cell_type": "markdown",
   "id": "e553f6ff-c78e-4fd7-a2e9-7014d55c4eed",
   "metadata": {
    "jp-MarkdownHeadingCollapsed": true,
    "tags": []
   },
   "source": [
    "#### Merged table"
   ]
  },
  {
   "cell_type": "code",
   "execution_count": 13,
   "id": "9c4d0e9a-7555-4d62-aeac-5bf809f8e621",
   "metadata": {},
   "outputs": [
    {
     "data": {
      "text/html": [
       "<div>\n",
       "<style scoped>\n",
       "    .dataframe tbody tr th:only-of-type {\n",
       "        vertical-align: middle;\n",
       "    }\n",
       "\n",
       "    .dataframe tbody tr th {\n",
       "        vertical-align: top;\n",
       "    }\n",
       "\n",
       "    .dataframe thead th {\n",
       "        text-align: right;\n",
       "    }\n",
       "</style>\n",
       "<table border=\"1\" class=\"dataframe\">\n",
       "  <thead>\n",
       "    <tr style=\"text-align: right;\">\n",
       "      <th></th>\n",
       "      <th>Station Name</th>\n",
       "      <th>Avg Max Temp</th>\n",
       "      <th>Avg Min Temp</th>\n",
       "      <th>Latitude</th>\n",
       "      <th>Longitude</th>\n",
       "      <th>SHAPE</th>\n",
       "      <th>level_0</th>\n",
       "      <th>index_right</th>\n",
       "      <th>OBJECTID</th>\n",
       "      <th>COUNTY_NAME</th>\n",
       "      <th>COUNTY_CODE</th>\n",
       "      <th>COUNTY_FIPS55_CODE</th>\n",
       "      <th>COUNTY_GNIS_FEATURE_ID</th>\n",
       "      <th>ATP_CODE</th>\n",
       "      <th>Shape__Area</th>\n",
       "      <th>Shape__Length</th>\n",
       "    </tr>\n",
       "  </thead>\n",
       "  <tbody>\n",
       "    <tr>\n",
       "      <th>0</th>\n",
       "      <td>Becker</td>\n",
       "      <td>55.49881</td>\n",
       "      <td>35.49517</td>\n",
       "      <td>45.34399</td>\n",
       "      <td>-93.85014</td>\n",
       "      <td>{\"spatialReference\": {\"wkid\": 4326}, \"x\": -93....</td>\n",
       "      <td>38</td>\n",
       "      <td>38</td>\n",
       "      <td>178</td>\n",
       "      <td>Sherburne</td>\n",
       "      <td>71</td>\n",
       "      <td>141</td>\n",
       "      <td>659515</td>\n",
       "      <td>3</td>\n",
       "      <td>0.0</td>\n",
       "      <td>0.0</td>\n",
       "    </tr>\n",
       "    <tr>\n",
       "      <th>1</th>\n",
       "      <td>Humboldt</td>\n",
       "      <td>50.26750</td>\n",
       "      <td>28.63329</td>\n",
       "      <td>48.88351</td>\n",
       "      <td>-97.15029</td>\n",
       "      <td>{\"spatialReference\": {\"wkid\": 4326}, \"x\": -97....</td>\n",
       "      <td>16</td>\n",
       "      <td>16</td>\n",
       "      <td>253</td>\n",
       "      <td>Kittson</td>\n",
       "      <td>35</td>\n",
       "      <td>069</td>\n",
       "      <td>659480</td>\n",
       "      <td>2</td>\n",
       "      <td>0.0</td>\n",
       "      <td>0.0</td>\n",
       "    </tr>\n",
       "  </tbody>\n",
       "</table>\n",
       "</div>"
      ],
      "text/plain": [
       "  Station Name  Avg Max Temp  Avg Min Temp  Latitude  Longitude  \\\n",
       "0       Becker      55.49881      35.49517  45.34399  -93.85014   \n",
       "1     Humboldt      50.26750      28.63329  48.88351  -97.15029   \n",
       "\n",
       "                                               SHAPE  level_0  index_right  \\\n",
       "0  {\"spatialReference\": {\"wkid\": 4326}, \"x\": -93....       38           38   \n",
       "1  {\"spatialReference\": {\"wkid\": 4326}, \"x\": -97....       16           16   \n",
       "\n",
       "   OBJECTID COUNTY_NAME COUNTY_CODE COUNTY_FIPS55_CODE  \\\n",
       "0       178   Sherburne          71                141   \n",
       "1       253     Kittson          35                069   \n",
       "\n",
       "   COUNTY_GNIS_FEATURE_ID ATP_CODE  Shape__Area  Shape__Length  \n",
       "0                  659515        3          0.0            0.0  \n",
       "1                  659480        2          0.0            0.0  "
      ]
     },
     "execution_count": 13,
     "metadata": {},
     "output_type": "execute_result"
    }
   ],
   "source": [
    "#spatial_join.head()\n",
    "#sdf_NDAWN.columns\n",
    "#sdf_mn_counties.columns\n",
    "spatial_join"
   ]
  },
  {
   "cell_type": "code",
   "execution_count": 14,
   "id": "37bc1c4e-67e1-4027-9c14-d452849dd095",
   "metadata": {},
   "outputs": [],
   "source": [
    "#Saved spatial joined table\n",
    "spatial_join.to_csv('Lab_1__Joined_Set.csv', index=False)"
   ]
  },
  {
   "cell_type": "markdown",
   "id": "ab702fe1-a609-4e5b-b0d3-64fdb0db6614",
   "metadata": {
    "jp-MarkdownHeadingCollapsed": true,
    "tags": []
   },
   "source": [
    "# * Save the integrated dataset to a geodatabase"
   ]
  },
  {
   "cell_type": "code",
   "execution_count": 15,
   "id": "cda141d6-cb03-4a88-b8be-e847e5c31df2",
   "metadata": {},
   "outputs": [
    {
     "data": {
      "text/plain": [
       "'/arcgis/Lab_1__Joined_Set.gdb/Lab_1__Joined_Set.shp'"
      ]
     },
     "execution_count": 15,
     "metadata": {},
     "output_type": "execute_result"
    }
   ],
   "source": [
    "# Save the Statial Join DataFrame to geodatabase\n",
    "#spatial_join\n",
    "\n",
    "Lab_1__Joined_Set = spatial_join\n",
    "feature_class_name = 'Lab_1__Joined_Set'  \n",
    "output_path_join = spatial_join.spatial.to_featureclass(location=f'Lab_1__Joined_Set.gdb/{feature_class_name}')\n",
    "output_path_join"
   ]
  },
  {
   "cell_type": "code",
   "execution_count": 16,
   "id": "f4f1ff91",
   "metadata": {},
   "outputs": [
    {
     "data": {
      "text/html": [
       "<div class=\"item_container\" style=\"height: auto; overflow: hidden; border: 1px solid #cfcfcf; border-radius: 2px; background: #f6fafa; line-height: 1.21429em; padding: 10px;\">\n",
       "                    <div class=\"item_left\" style=\"width: 210px; float: left;\">\n",
       "                       <a href='https://www.arcgis.com/home/item.html?id=9370a56b1f634d50a94a9534bca2ba4d' target='_blank'>\n",
       "                        <img src='https://www.arcgis.com/sharing/rest//content/items/9370a56b1f634d50a94a9534bca2ba4d/info/thumbnail/ago_downloaded.png' class=\"itemThumbnail\">\n",
       "                       </a>\n",
       "                    </div>\n",
       "\n",
       "                    <div class=\"item_right\"     style=\"float: none; width: auto; overflow: hidden;\">\n",
       "                        <a href='https://www.arcgis.com/home/item.html?id=9370a56b1f634d50a94a9534bca2ba4d' target='_blank'><b>Lab 1 map </b>\n",
       "                        </a>\n",
       "                        <br/><img src='https://www.arcgis.com/home/js/jsapi/esri/css/images/item_type_icons/maps16.png' style=\"vertical-align:middle;\" width=16 height=16>Web Map by smi02542_UMN\n",
       "                        <br/>Last Modified: October 07, 2024\n",
       "                        <br/>0 comments, 46 views\n",
       "                    </div>\n",
       "                </div>\n",
       "                "
      ],
      "text/plain": [
       "<Item title:\"Lab 1 map \" type:Web Map owner:smi02542_UMN>"
      ]
     },
     "execution_count": 16,
     "metadata": {},
     "output_type": "execute_result"
    }
   ],
   "source": [
    "#View map at: https://umn.maps.arcgis.com/apps/mapviewer/index.html?webmap=9370a56b1f634d50a94a9534bca2ba4d\n",
    "# Title: Lab 1 map  | Type: Web Map | Owner: smi02542_UMN\n",
    "map = gis.content.get(\"9370a56b1f634d50a94a9534bca2ba4d\")\n",
    "map"
   ]
  }
 ],
 "metadata": {
  "kernelspec": {
   "display_name": "Python 3 (ipykernel)",
   "language": "python",
   "name": "python3"
  },
  "language_info": {
   "codemirror_mode": {
    "name": "ipython",
    "version": 3
   },
   "file_extension": ".py",
   "mimetype": "text/x-python",
   "name": "python",
   "nbconvert_exporter": "python",
   "pygments_lexer": "ipython3",
   "version": "3.11.8"
  }
 },
 "nbformat": 4,
 "nbformat_minor": 5
}
