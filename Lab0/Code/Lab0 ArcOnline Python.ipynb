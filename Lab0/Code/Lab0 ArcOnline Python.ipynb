{
 "cells": [
  {
   "cell_type": "markdown",
   "metadata": {},
   "source": [
    "## Lab0 - Jupyter Notebooks in ArcOnline\n",
    "\n"
   ]
  },
  {
   "cell_type": "markdown",
   "metadata": {},
   "source": [
    "### Load packages and dataset"
   ]
  },
  {
   "cell_type": "code",
   "execution_count": 9,
   "metadata": {},
   "outputs": [
    {
     "name": "stderr",
     "output_type": "stream",
     "text": [
      "/opt/conda/lib/python3.11/site-packages/arcgis/gis/__init__.py:731: UserWarning: You are logged on as smi02542_UMN with an administrator role, proceed with caution.\n",
      "  warnings.warn(\n"
     ]
    }
   ],
   "source": [
    "# Connect to ArcGIS Online\n",
    "from arcgis.gis import GIS\n",
    "gis = GIS(\"home\")\n",
    "from arcgis.features import FeatureLayer\n",
    "from arcgis.features.analysis import create_buffers"
   ]
  },
  {
   "cell_type": "code",
   "execution_count": 10,
   "metadata": {},
   "outputs": [],
   "source": [
    "# Load Strategic_Highways_MN Feature Layer\n",
    "Strategic_Highways_MN = FeatureLayer(\"https://services.arcgis.com/8df8p0NlLFEShl0r/arcgis/rest/services/Strategic_Highways/FeatureServer/0\")"
   ]
  },
  {
   "cell_type": "markdown",
   "metadata": {},
   "source": [
    "### Make Map & add Strategic_Highways_MN"
   ]
  },
  {
   "cell_type": "code",
   "execution_count": 11,
   "metadata": {},
   "outputs": [],
   "source": [
    "# Map centered on Minnesota\n",
    "map1 = gis.map('Minnesota')\n",
    "map1.zoom = 6\n",
    "map1.height = '500px'\n",
    "map1.width = '50%'\n",
    "\n",
    "#Test the map\n",
    "#map1"
   ]
  },
  {
   "cell_type": "code",
   "execution_count": 12,
   "metadata": {},
   "outputs": [],
   "source": [
    "# Add the Strategic_Highways_MN layer to the map\n",
    "map1.add_layer(Strategic_Highways_MN)\n",
    "\n",
    "#Test the map\n",
    "#map1"
   ]
  },
  {
   "cell_type": "markdown",
   "metadata": {},
   "source": [
    "### Make buffer & add to map"
   ]
  },
  {
   "cell_type": "code",
   "execution_count": 13,
   "metadata": {},
   "outputs": [
    {
     "name": "stderr",
     "output_type": "stream",
     "text": [
      "{\"cost\": 0.038}\n"
     ]
    }
   ],
   "source": [
    "# 5-mile buffer around the Strategic_Highways_MN polyline\n",
    "input_layer = Strategic_Highways_MN\n",
    "\n",
    "buffer_result = create_buffers(\n",
    "    input_layer=input_layer,\n",
    "    distances=[5],\n",
    "    units=\"Miles\",\n",
    "    dissolve_type=\"Dissolve\"\n",
    ")"
   ]
  },
  {
   "cell_type": "code",
   "execution_count": 14,
   "metadata": {},
   "outputs": [],
   "source": [
    "# add the buffer to the map\n",
    "map1.add_layer(buffer_result)"
   ]
  },
  {
   "cell_type": "markdown",
   "metadata": {},
   "source": [
    "### Diaplay & save map"
   ]
  },
  {
   "cell_type": "code",
   "execution_count": 15,
   "metadata": {},
   "outputs": [
    {
     "data": {
      "application/vnd.jupyter.widget-view+json": {
       "model_id": "48bd916f4f6d4fbdbd5e71bba83e967f",
       "version_major": 2,
       "version_minor": 0
      },
      "text/plain": [
       "MapView(layout=Layout(height='400px', width='100%'))"
      ]
     },
     "metadata": {},
     "output_type": "display_data"
    },
    {
     "data": {
      "text/html": [
       "<div class=\"map-static-img-preview-1f4bfc79-c0b7-4a8a-bf97-35f474708493\"><img src=\"\"></img></div>"
      ],
      "text/plain": [
       "<IPython.core.display.HTML object>"
      ]
     },
     "metadata": {},
     "output_type": "display_data"
    },
    {
     "data": {
      "text/html": [
       "<div class=\"map-html-embed-preview-1f4bfc79-c0b7-4a8a-bf97-35f474708493\"></div>"
      ],
      "text/plain": [
       "<IPython.core.display.HTML object>"
      ]
     },
     "metadata": {},
     "output_type": "display_data"
    }
   ],
   "source": [
    "# Display the map\n",
    "map1"
   ]
  },
  {
   "cell_type": "code",
   "execution_count": 8,
   "metadata": {},
   "outputs": [
    {
     "name": "stdout",
     "output_type": "stream",
     "text": [
      "Map saved. You can view it here: https://www.arcgis.com/home/item.html?id=290ae745fa4040d4881a7c342e2f4c34\n"
     ]
    }
   ],
   "source": [
    "# Save the map to ArcOnline\n",
    "webmap_item = map1.save({\n",
    "    'title': 'Buffer Map of Strategic Highways MN',\n",
    "    'tags': 'buffers, strategic highways, Minnesota',\n",
    "    'snippet': 'A 5-mile buffer around the Strategic Highways in Minnesota',\n",
    "    'description': 'This map shows a 5-mile buffer around strategic highways in Minnesota.',\n",
    "    'folder': None\n",
    "})\n",
    "\n",
    "# Print the web map URL\n",
    "print(f\"Map saved. You can view it here: {webmap_item.homepage}\")"
   ]
  },
  {
   "cell_type": "markdown",
   "metadata": {},
   "source": [
    "### Return to ArcOnline to view and analyze"
   ]
  },
  {
   "cell_type": "code",
   "execution_count": null,
   "metadata": {},
   "outputs": [],
   "source": []
  }
 ],
 "metadata": {
  "esriNotebookRuntime": {
   "notebookRuntimeName": "ArcGIS Notebook Python 3 Standard",
   "notebookRuntimeVersion": "10.0"
  },
  "kernelspec": {
   "display_name": "Python 3 (ipykernel)",
   "language": "python",
   "name": "python3"
  },
  "language_info": {
   "codemirror_mode": {
    "name": "ipython",
    "version": 3
   },
   "file_extension": ".py",
   "mimetype": "text/x-python",
   "name": "python",
   "nbconvert_exporter": "python",
   "pygments_lexer": "ipython3",
   "version": "3.11.8"
  }
 },
 "nbformat": 4,
 "nbformat_minor": 2
}
