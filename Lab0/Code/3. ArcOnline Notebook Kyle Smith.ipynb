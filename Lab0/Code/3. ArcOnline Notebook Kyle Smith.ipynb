{
 "cells": [
  {
   "cell_type": "markdown",
   "metadata": {},
   "source": [
    "## Lab0 - Jupyter Notebooks in ArcOnline\n",
    "\n"
   ]
  },
  {
   "cell_type": "markdown",
   "metadata": {},
   "source": [
    "### Load packages and dataset"
   ]
  },
  {
   "cell_type": "code",
   "execution_count": null,
   "metadata": {},
   "outputs": [],
   "source": [
    "# Connect to ArcGIS Online\n",
    "from arcgis.gis import GIS\n",
    "gis = GIS(\"home\")\n",
    "from arcgis.features import FeatureLayer\n",
    "from arcgis.features.analysis import create_buffers"
   ]
  },
  {
   "cell_type": "code",
   "execution_count": null,
   "metadata": {},
   "outputs": [],
   "source": [
    "# Load Strategic_Highways_MN Feature Layer\n",
    "Strategic_Highways_MN = FeatureLayer(\"https://services.arcgis.com/8df8p0NlLFEShl0r/arcgis/rest/services/Strategic_Highways/FeatureServer/0\")"
   ]
  },
  {
   "cell_type": "markdown",
   "metadata": {},
   "source": [
    "### Make Map & add Strategic_Highways_MN"
   ]
  },
  {
   "cell_type": "code",
   "execution_count": null,
   "metadata": {},
   "outputs": [],
   "source": [
    "# Map centered on Minnesota\n",
    "map1 = gis.map('Minnesota')\n",
    "map1.zoom = 6\n",
    "map1.height = '500px'\n",
    "map1.width = '50%'\n",
    "\n",
    "#Test the map\n",
    "#map1"
   ]
  },
  {
   "cell_type": "code",
   "execution_count": null,
   "metadata": {},
   "outputs": [],
   "source": [
    "# Add the Strategic_Highways_MN layer to the map\n",
    "map1.add_layer(Strategic_Highways_MN)\n",
    "\n",
    "#Test the map\n",
    "#map1"
   ]
  },
  {
   "cell_type": "markdown",
   "metadata": {},
   "source": [
    "### Make buffer & add to map"
   ]
  },
  {
   "cell_type": "code",
   "execution_count": null,
   "metadata": {},
   "outputs": [],
   "source": [
    "# 5-mile buffer around the Strategic_Highways_MN polyline\n",
    "input_layer = Strategic_Highways_MN\n",
    "\n",
    "buffer_result = create_buffers(\n",
    "    input_layer=input_layer,\n",
    "    distances=[5],\n",
    "    units=\"Miles\"\n",
    ")"
   ]
  },
  {
   "cell_type": "code",
   "execution_count": null,
   "metadata": {},
   "outputs": [],
   "source": [
    "# add the buffer to the map\n",
    "map1.add_layer(buffer_result)"
   ]
  },
  {
   "cell_type": "markdown",
   "metadata": {},
   "source": [
    "### Diaplay & save map"
   ]
  },
  {
   "cell_type": "code",
   "execution_count": 9,
   "metadata": {},
   "outputs": [
    {
     "data": {
      "application/vnd.jupyter.widget-view+json": {
       "model_id": "833bbff148d843099378b0df609a01ad",
       "version_major": 2,
       "version_minor": 0
      },
      "text/plain": [
       "MapView(layout=Layout(height='400px', width='100%'))"
      ]
     },
     "metadata": {},
     "output_type": "display_data"
    },
    {
     "data": {
      "text/html": [
       "<div class=\"map-static-img-preview-f5901ac0-6b9b-4c9a-a3f7-e131f15d1aae\"><img src=\"\"></img></div>"
      ],
      "text/plain": [
       "<IPython.core.display.HTML object>"
      ]
     },
     "metadata": {},
     "output_type": "display_data"
    },
    {
     "data": {
      "text/html": [
       "<div class=\"map-html-embed-preview-f5901ac0-6b9b-4c9a-a3f7-e131f15d1aae\"></div>"
      ],
      "text/plain": [
       "<IPython.core.display.HTML object>"
      ]
     },
     "metadata": {},
     "output_type": "display_data"
    }
   ],
   "source": [
    "# Display the map\n",
    "map1"
   ]
  },
  {
   "cell_type": "code",
   "execution_count": 10,
   "metadata": {},
   "outputs": [
    {
     "ename": "RuntimeError",
     "evalue": "title, snippet and tags are required in item_properties dictionary",
     "output_type": "error",
     "traceback": [
      "\u001b[0;31m---------------------------------------------------------------------------\u001b[0m",
      "\u001b[0;31mRuntimeError\u001b[0m                              Traceback (most recent call last)",
      "\u001b[0;32m/tmp/ipykernel_106/4105613719.py\u001b[0m in \u001b[0;36m<cell line: 0>\u001b[0;34m()\u001b[0m\n\u001b[1;32m      1\u001b[0m \u001b[0;31m# Save the map to ArcOnline\u001b[0m\u001b[0;34m\u001b[0m\u001b[0;34m\u001b[0m\u001b[0m\n\u001b[0;32m----> 2\u001b[0;31m \u001b[0mwebmap_item\u001b[0m \u001b[0;34m=\u001b[0m \u001b[0mmap1\u001b[0m\u001b[0;34m.\u001b[0m\u001b[0msave\u001b[0m\u001b[0;34m(\u001b[0m\u001b[0;34m{\u001b[0m\u001b[0;34m'title'\u001b[0m\u001b[0;34m:\u001b[0m \u001b[0;34m'Map - Lab0 - Jupyter Notebooks in ArcOnline'\u001b[0m\u001b[0;34m}\u001b[0m\u001b[0;34m)\u001b[0m\u001b[0;34m\u001b[0m\u001b[0;34m\u001b[0m\u001b[0m\n\u001b[0m",
      "\u001b[0;32m/opt/conda/lib/python3.11/site-packages/arcgis/widgets/_mapview/_mapview.py\u001b[0m in \u001b[0;36msave\u001b[0;34m(self, item_properties, mode, thumbnail, metadata, owner, folder)\u001b[0m\n\u001b[1;32m   2004\u001b[0m         \u001b[0;32mif\u001b[0m \u001b[0mmode\u001b[0m \u001b[0;34m==\u001b[0m \u001b[0;34m\"2D\"\u001b[0m \u001b[0;32mor\u001b[0m \u001b[0;34m\"webmap\"\u001b[0m \u001b[0;32min\u001b[0m \u001b[0mmode\u001b[0m\u001b[0;34m.\u001b[0m\u001b[0mlower\u001b[0m\u001b[0;34m(\u001b[0m\u001b[0;34m)\u001b[0m\u001b[0;34m:\u001b[0m\u001b[0;34m\u001b[0m\u001b[0;34m\u001b[0m\u001b[0m\n\u001b[1;32m   2005\u001b[0m             \u001b[0mself\u001b[0m\u001b[0;34m.\u001b[0m\u001b[0mmode\u001b[0m \u001b[0;34m=\u001b[0m \u001b[0;34m\"2D\"\u001b[0m\u001b[0;34m\u001b[0m\u001b[0;34m\u001b[0m\u001b[0m\n\u001b[0;32m-> 2006\u001b[0;31m             return self._save_as_webmap(\n\u001b[0m\u001b[1;32m   2007\u001b[0m                 \u001b[0mitem_properties\u001b[0m\u001b[0;34m=\u001b[0m\u001b[0mitem_properties\u001b[0m\u001b[0;34m,\u001b[0m\u001b[0;34m\u001b[0m\u001b[0;34m\u001b[0m\u001b[0m\n\u001b[1;32m   2008\u001b[0m                 \u001b[0mthumbnail\u001b[0m\u001b[0;34m=\u001b[0m\u001b[0mthumbnail\u001b[0m\u001b[0;34m,\u001b[0m\u001b[0;34m\u001b[0m\u001b[0;34m\u001b[0m\u001b[0m\n",
      "\u001b[0;32m/opt/conda/lib/python3.11/site-packages/arcgis/widgets/_mapview/_mapview.py\u001b[0m in \u001b[0;36m_save_as_webmap\u001b[0;34m(self, item_properties, thumbnail, metadata, owner, folder)\u001b[0m\n\u001b[1;32m   2035\u001b[0m \u001b[0;34m\u001b[0m\u001b[0m\n\u001b[1;32m   2036\u001b[0m         \u001b[0mself\u001b[0m\u001b[0;34m.\u001b[0m\u001b[0mmode\u001b[0m \u001b[0;34m=\u001b[0m \u001b[0;34m\"2D\"\u001b[0m\u001b[0;34m\u001b[0m\u001b[0;34m\u001b[0m\u001b[0m\n\u001b[0;32m-> 2037\u001b[0;31m         \u001b[0mself\u001b[0m\u001b[0;34m.\u001b[0m\u001b[0m_check_item_properties\u001b[0m\u001b[0;34m(\u001b[0m\u001b[0mitem_properties\u001b[0m\u001b[0;34m)\u001b[0m\u001b[0;34m\u001b[0m\u001b[0;34m\u001b[0m\u001b[0m\n\u001b[0m\u001b[1;32m   2038\u001b[0m         if (\"basemap\" in self._readonly_webmap_from_js) and (\n\u001b[1;32m   2039\u001b[0m             \u001b[0;34m\"baseMapLayers\"\u001b[0m \u001b[0;32min\u001b[0m \u001b[0mself\u001b[0m\u001b[0;34m.\u001b[0m\u001b[0m_readonly_webmap_from_js\u001b[0m\u001b[0;34m[\u001b[0m\u001b[0;34m\"basemap\"\u001b[0m\u001b[0;34m]\u001b[0m\u001b[0;34m\u001b[0m\u001b[0;34m\u001b[0m\u001b[0m\n",
      "\u001b[0;32m/opt/conda/lib/python3.11/site-packages/arcgis/widgets/_mapview/_mapview.py\u001b[0m in \u001b[0;36m_check_item_properties\u001b[0;34m(self, item_properties)\u001b[0m\n\u001b[1;32m   2155\u001b[0m             \u001b[0;32mor\u001b[0m \u001b[0;34m(\u001b[0m\u001b[0;34m\"tags\"\u001b[0m \u001b[0;32mnot\u001b[0m \u001b[0;32min\u001b[0m \u001b[0mitem_properties\u001b[0m\u001b[0;34m)\u001b[0m\u001b[0;34m\u001b[0m\u001b[0;34m\u001b[0m\u001b[0m\n\u001b[1;32m   2156\u001b[0m         ):\n\u001b[0;32m-> 2157\u001b[0;31m             raise RuntimeError(\n\u001b[0m\u001b[1;32m   2158\u001b[0m                 \u001b[0;34m\"title, snippet and tags are required in \"\u001b[0m \u001b[0;34m\"item_properties dictionary\"\u001b[0m\u001b[0;34m\u001b[0m\u001b[0;34m\u001b[0m\u001b[0m\n\u001b[1;32m   2159\u001b[0m             )\n",
      "\u001b[0;31mRuntimeError\u001b[0m: title, snippet and tags are required in item_properties dictionary"
     ]
    }
   ],
   "source": [
    "# Save the map to ArcOnline\n",
    "webmap_item = map1.save({'title': 'Map - Lab0 - Jupyter Notebooks in ArcOnline'})\n"
   ]
  },
  {
   "cell_type": "markdown",
   "metadata": {},
   "source": [
    "### Return to ArcOnline to view and analyze"
   ]
  },
  {
   "cell_type": "code",
   "execution_count": null,
   "metadata": {},
   "outputs": [],
   "source": []
  }
 ],
 "metadata": {
  "esriNotebookRuntime": {
   "notebookRuntimeName": "ArcGIS Notebook Python 3 Standard",
   "notebookRuntimeVersion": "10.0"
  },
  "kernelspec": {
   "display_name": "Python 3 (ipykernel)",
   "language": "python",
   "name": "python3"
  },
  "language_info": {
   "codemirror_mode": {
    "name": "ipython",
    "version": 3
   },
   "file_extension": ".py",
   "mimetype": "text/x-python",
   "name": "python",
   "nbconvert_exporter": "python",
   "pygments_lexer": "ipython3",
   "version": "3.11.8"
  }
 },
 "nbformat": 4,
 "nbformat_minor": 2
}
